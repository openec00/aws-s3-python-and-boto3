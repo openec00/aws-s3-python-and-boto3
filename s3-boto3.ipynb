{
 "cells": [
  {
   "cell_type": "code",
   "execution_count": 1,
   "metadata": {},
   "outputs": [],
   "source": [
    "import logging\n",
    "import boto3\n",
    "from botocore.exceptions import ClientError"
   ]
  },
  {
   "cell_type": "code",
   "execution_count": 3,
   "metadata": {},
   "outputs": [
    {
     "data": {
      "text/plain": [
       "{'ResponseMetadata': {'RequestId': 'R3SZDVKTMR7N2BNV',\n",
       "  'HostId': 'CwdqKulsVNejg5daoj7tFbd4I7oqDsS8yAv4lTJSpRshTwoY4wASafhXRSm9f6YdrmJzsZFdsfM=',\n",
       "  'HTTPStatusCode': 200,\n",
       "  'HTTPHeaders': {'x-amz-id-2': 'CwdqKulsVNejg5daoj7tFbd4I7oqDsS8yAv4lTJSpRshTwoY4wASafhXRSm9f6YdrmJzsZFdsfM=',\n",
       "   'x-amz-request-id': 'R3SZDVKTMR7N2BNV',\n",
       "   'date': 'Tue, 24 Aug 2021 11:44:33 GMT',\n",
       "   'location': 'http://my-python-boto3-project.s3.amazonaws.com/',\n",
       "   'server': 'AmazonS3',\n",
       "   'content-length': '0'},\n",
       "  'RetryAttempts': 0},\n",
       " 'Location': 'http://my-python-boto3-project.s3.amazonaws.com/'}"
      ]
     },
     "execution_count": 3,
     "metadata": {},
     "output_type": "execute_result"
    }
   ],
   "source": [
    "#Create S3 bucket - in a production systems you should avoid hard coding your AWS access and secret keys\n",
    "AWS_ACCESS_KEY_ID = ''\n",
    "AWS_SECRET_ACCESS_KEY = ''\n",
    "\n",
    "#Create a s3 client object\n",
    "s3_client = boto3.client('s3', region_name ='eu-west-2',\n",
    "                        aws_access_key_id = AWS_ACCESS_KEY_ID,\n",
    "                        aws_secret_access_key = AWS_SECRET_ACCESS_KEY)\n",
    "\n",
    "#Specify location of the s3 bucket using the Configuration parameter\n",
    "location = {'LocationConstraint': 'eu-west-2'}\n",
    "\n",
    "#Use the s3 client to create_bucket method to create a bucket\n",
    "s3_client.create_bucket(Bucket = 'my-python-boto3-project',\n",
    "                       CreateBucketConfiguration = location)"
   ]
  },
  {
   "cell_type": "code",
   "execution_count": 4,
   "metadata": {},
   "outputs": [
    {
     "name": "stdout",
     "output_type": "stream",
     "text": [
      "employee-photo-bucket-co-000\n",
      "my-python-boto3-project\n"
     ]
    }
   ],
   "source": [
    "# List Bucket on S3 with boto3 s3_client object 'list' method\n",
    "bucket_list = s3_client.list_buckets()\n",
    "\n",
    "for bucket in bucket_list['Buckets']:\n",
    "    print(bucket['Name'])"
   ]
  },
  {
   "cell_type": "code",
   "execution_count": 5,
   "metadata": {},
   "outputs": [],
   "source": [
    "# Uploading files to a bucket with boto3 s3_client 'upload_file' method\n",
    "file_name= 'Downloads/awesomecsv.csv'\n",
    "bucket_name = 'my-python-boto3-project'\n",
    "myfile = file_name\n",
    "\n",
    "file_upload = s3_client.upload_file(file_name, bucket_name, myfile)"
   ]
  },
  {
   "cell_type": "code",
   "execution_count": 8,
   "metadata": {},
   "outputs": [],
   "source": [
    "# Uploading a file using the python file handler\n",
    "with open(file_name, 'rb') as obj:\n",
    "    s3_client.upload_fileobj(obj, bucket_name, 'Downloads/awesomecsv.clone.csv')"
   ]
  },
  {
   "cell_type": "code",
   "execution_count": 9,
   "metadata": {},
   "outputs": [],
   "source": [
    "# Upload file with ExtraArgs - enables you parse extra arguments when uploading a file\n",
    "# Upload file with public read access\n",
    "file_name= 'Downloads/awesomecsv.public.csv'\n",
    "bucket_name = 'my-python-boto3-project'\n",
    "myfile = file_name\n",
    "\n",
    "file_upload = s3_client.upload_file(file_name, bucket_name, myfile,\n",
    "                                   ExtraArgs={'ACL':'public-read'})"
   ]
  },
  {
   "cell_type": "code",
   "execution_count": 10,
   "metadata": {},
   "outputs": [],
   "source": [
    "# Downloading files\n",
    "s3_client.download_file(bucket_name, 'Downloads/awesomecsv.clone.csv', 'Target/awesomecsv_download_target.csv')"
   ]
  },
  {
   "cell_type": "code",
   "execution_count": 11,
   "metadata": {},
   "outputs": [],
   "source": [
    "# Download and rename downloaded file using file handler (obj)\n",
    "with open('Target/awesomecsv.copy.csv', 'wb') as obj:\n",
    "    s3_client.download_fileobj(bucket_name, myfile, obj)"
   ]
  },
  {
   "cell_type": "code",
   "execution_count": null,
   "metadata": {},
   "outputs": [],
   "source": []
  }
 ],
 "metadata": {
  "kernelspec": {
   "display_name": "Python 3",
   "language": "python",
   "name": "python3"
  },
  "language_info": {
   "codemirror_mode": {
    "name": "ipython",
    "version": 3
   },
   "file_extension": ".py",
   "mimetype": "text/x-python",
   "name": "python",
   "nbconvert_exporter": "python",
   "pygments_lexer": "ipython3",
   "version": "3.8.6"
  }
 },
 "nbformat": 4,
 "nbformat_minor": 5
}
